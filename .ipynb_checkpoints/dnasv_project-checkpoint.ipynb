{
 "cells": [
  {
   "cell_type": "markdown",
   "metadata": {},
   "source": [
    "# Structural variations with optical DNA maps\n",
    "\n",
    "This jupyter notebook works as a framework for a possible supplementary for the future paper on structural variations using optical DNA maps and was written as part of Jupyter Notebooks course https://github.com/mlund/jupyter-course . Notation is used as in the cited papers at the bottom of the notebook.\n",
    "\n"
   ]
  },
  {
   "cell_type": "markdown",
   "metadata": {},
   "source": [
    "## Running the notebook\n",
    "\n",
    "To run this notebook, install and activate the `dnasvenv` environment described by the file [`dnasvenv.yml`](/dnasvenv.yml) by running the following in a terminal:\n",
    "\n",
    "```bash\n",
    "conda env create -f dnasvenv.yml\n",
    "source activate dnasvenv\n",
    "```\n",
    "    "
   ]
  },
  {
   "cell_type": "code",
   "execution_count": 50,
   "metadata": {},
   "outputs": [],
   "source": [
    "import hmmpackage as hm\n",
    "import numpy as np\n",
    "import matplotlib.pyplot as plt\n",
    "\n",
    "# \"We use SeqIO to to input file data \n",
    "from Bio import SeqIO\n",
    "\n",
    "import pandas as pd\n",
    "from ipywidgets import interact, interactive, fixed,widgets\n",
    "\n"
   ]
  },
  {
   "cell_type": "markdown",
   "metadata": {},
   "source": [
    "## Simulation of Optical DNA maps"
   ]
  },
  {
   "cell_type": "markdown",
   "metadata": {},
   "source": [
    "### Known sequence"
   ]
  },
  {
   "cell_type": "markdown",
   "metadata": {},
   "source": [
    "In the DNA barcoding experiments considered here, DNA is stained with YOYO-1 and netropsin, with a ratio roughly 1:6. DNA is then stretched in nanochannels with dimensions of $100\\times 150 \\text{nm}^2$ and a length of $500\n",
    " \\mu$m by using pressure-driven flow created from nitrogen gas. Then $n$ time-frames of the molecule are obtained using EMCCD camera combined with an inverted fluorescence microscope."
   ]
  },
  {
   "cell_type": "markdown",
   "metadata": {},
   "source": [
    "If the DNA sequence is known, a mathematical model (in this case a competitive binding model) can be used to simulate the expected output of the experiment. Then a DNA sequence of $k_{\\rm max}$ basepairs is converted into a probability vector\n",
    "\n",
    "\\begin{equation} \\mathbf p = \\{ p(k), k = \\overline{0,k_{\\max}-1}\\},\\end{equation}\n",
    "\n",
    "which gives us the probabilities that a YOYO-1 is bound to a particular\n",
    "basepair along the DNA. Given this probability vector, $\\mathbf p$, a theoretical\n",
    "barcode is computed as a convolution of $\\mathbf p$ with a Gaussian kernel $\\boldsymbol{\\phi}$ with a width of $\\sigma$ bps:\n",
    "\n",
    "\\begin{equation}\\boldsymbol{\\phi} = \\left\\{ e^{-\\frac{k^2}{2\\sigma^2}}, \\begin{cases} |k| \\leq \\lfloor \\frac{k_{\\rm max}}{2} \\rfloor , k_{max} \\text{ odd} \\\\ -\\frac{k_{\\rm max}}{2}<k \\leq \\frac{k_{\\rm max}}{2}, k_{max} \\text{ even}\\end{cases}\\right\\}\n",
    "\\end{equation}\n",
    "\n",
    "here $\\sigma$  regulates how wide the Gaussian is. This convolution is now written according to\n",
    "\n",
    "\\begin{equation}\n",
    "\\tilde{I} (k) = (\\mathbf p * \\boldsymbol \\phi) (k) = \\sum_{i=0}^{k_{\\rm max}-1}p(i)\\cdot \\phi(i-k),~ 0 \\leq k \\leq k_{\\rm max}-1 ~\n",
    "\\end{equation}\n",
    "\n",
    "Finally, the result of this convolution is downsampled to bp/px convertion ratio of the experiment, and saved as $B (k) $ .\n"
   ]
  },
  {
   "cell_type": "markdown",
   "metadata": {},
   "source": [
    "To compute the theoretical barcode, we first parse a dna sequence for a fasta file, using the parser from Bio package"
   ]
  },
  {
   "cell_type": "code",
   "execution_count": 2,
   "metadata": {},
   "outputs": [],
   "source": [
    "filename1 = \"data/DA15001-pUUH_Sequence.fasta\"\n",
    "\n",
    "fasta_sequences = SeqIO.parse(open(filename1),'fasta')\n",
    "for fasta in fasta_sequences:\n",
    "    name, sequence = fasta.id, str(fasta.seq)"
   ]
  },
  {
   "cell_type": "markdown",
   "metadata": {},
   "source": [
    "Next we compute the probability  vector"
   ]
  },
  {
   "cell_type": "code",
   "execution_count": 3,
   "metadata": {},
   "outputs": [
    {
     "name": "stdout",
     "output_type": "stream",
     "text": [
      "10.318322897\n"
     ]
    }
   ],
   "source": [
    "plasmid = hm.cb_transfer_matrix_method(sequence)"
   ]
  },
  {
   "cell_type": "markdown",
   "metadata": {},
   "source": [
    "We convert this to bp/px ratio of an experiment"
   ]
  },
  {
   "cell_type": "code",
   "execution_count": 15,
   "metadata": {},
   "outputs": [],
   "source": [
    "filename2 = \"data/experiment_sets.txt\"\n",
    "psf, nmbp, nmpx  = np.loadtxt(filename2, delimiter=\",\", unpack = True)\n",
    "\n",
    "bar =  hm.seq_to_timeseries(plasmid,len(plasmid),psf/nmbp)\n",
    "\n",
    "# https://stackoverflow.com/questions/13728392/moving-average-or-running-mean\n",
    "N = int(round(nmpx/nmbp))\n",
    "\n",
    "averagedbar = pd.Series(bar).rolling(window=N).mean().iloc[N-1:].values\n",
    "barcode = averagedbar[::N]\n",
    "\n",
    "# save generated barcode using pandas\n",
    "df = pd.DataFrame(data=barcode,index=np.arange(1,len(barcode)+1),columns=['barcode']) \n",
    "df.to_csv(\"data/output_data.csv\", index=False,sep=',')\n"
   ]
  },
  {
   "cell_type": "code",
   "execution_count": 48,
   "metadata": {
    "scrolled": true
   },
   "outputs": [
    {
     "data": {
      "image/png": "[encoded data removed]",
      "text/plain": [
       "<matplotlib.figure.Figure at 0x7fb9280eefd0>"
      ]
     },
     "metadata": {
      "needs_background": "light"
     },
     "output_type": "display_data"
    }
   ],
   "source": [
    "# make the figure of 89mm width and 89mm height. plt accepts inches, so we divide by 2.54\n",
    "f = plt.figure(figsize=(8.9/2.54,8.9/2.54)) \n",
    "ax = plt.axes()\n",
    "ax.plot(np.arange(1,len(barcode)+1), barcode, color = 'black')\n",
    "ax.set_xlabel('$k$ pixel')\n",
    "ax.set_ylabel('$B(k)$')\n",
    "plt.tight_layout()\n",
    "plt.savefig('output/figure1.eps',dpi=300)\n",
    "plt.show()\n"
   ]
  },
  {
   "cell_type": "markdown",
   "metadata": {},
   "source": [
    "### Unknown sequence"
   ]
  },
  {
   "cell_type": "markdown",
   "metadata": {},
   "source": [
    "If underlying DNA sequence is not known, one can simulate random DNA maps using the structure described above. Instead of calculating the probability vector, we generate $k_{\\max}$ normally distributed random numbers, and convolve with a Gaussian"
   ]
  },
  {
   "cell_type": "code",
   "execution_count": 53,
   "metadata": {},
   "outputs": [
    {
     "ename": "NameError",
     "evalue": "name 'widgets' is not defined",
     "output_type": "error",
     "traceback": [
      "\u001b[0;31m---------------------------------------------------------------------------\u001b[0m",
      "\u001b[0;31mNameError\u001b[0m                                 Traceback (most recent call last)",
      "\u001b[0;32m<ipython-input-53-7e2e3667d012>\u001b[0m in \u001b[0;36m<module>\u001b[0;34m()\u001b[0m\n\u001b[1;32m      2\u001b[0m     \u001b[0;32mreturn\u001b[0m \u001b[0mx\u001b[0m\u001b[0;34m\u001b[0m\u001b[0m\n\u001b[1;32m      3\u001b[0m \u001b[0;34m\u001b[0m\u001b[0m\n\u001b[0;32m----> 4\u001b[0;31m \u001b[0mbarLen\u001b[0m \u001b[0;34m=\u001b[0m \u001b[0minteract\u001b[0m\u001b[0;34m(\u001b[0m\u001b[0mf\u001b[0m\u001b[0;34m,\u001b[0m\u001b[0mx\u001b[0m\u001b[0;34m=\u001b[0m\u001b[0mwidgets\u001b[0m\u001b[0;34m.\u001b[0m\u001b[0mIntSlider\u001b[0m\u001b[0;34m(\u001b[0m\u001b[0mmin\u001b[0m\u001b[0;34m=\u001b[0m\u001b[0;36m10\u001b[0m\u001b[0;34m,\u001b[0m\u001b[0mmax\u001b[0m\u001b[0;34m=\u001b[0m\u001b[0;36m500\u001b[0m\u001b[0;34m,\u001b[0m\u001b[0mstep\u001b[0m\u001b[0;34m=\u001b[0m\u001b[0;36m1\u001b[0m\u001b[0;34m,\u001b[0m\u001b[0mvalue\u001b[0m\u001b[0;34m=\u001b[0m\u001b[0;36m100\u001b[0m\u001b[0;34m)\u001b[0m\u001b[0;34m)\u001b[0m\u001b[0;34m;\u001b[0m\u001b[0;34m\u001b[0m\u001b[0m\n\u001b[0m",
      "\u001b[0;31mNameError\u001b[0m: name 'widgets' is not defined"
     ]
    }
   ],
   "source": [
    "def f(x):\n",
    "    return x\n",
    "\n",
    "barLen = interact(f,x=widgets.IntSlider(min=10,max=500,step=1,value=100));"
   ]
  },
  {
   "cell_type": "code",
   "execution_count": 49,
   "metadata": {},
   "outputs": [
    {
     "data": {
      "image/png": "[encoded data removed]",
      "text/plain": [
       "<matplotlib.figure.Figure at 0x7fb92b586e50>"
      ]
     },
     "metadata": {
      "needs_background": "light"
     },
     "output_type": "display_data"
    }
   ],
   "source": [
    "barLen = 100 # \n",
    "seq = np.random.normal(0,1,barLen)\n",
    "barRand1 =  hm.seq_to_timeseries(seq,barLen,2.3)\n",
    "\n",
    "f = plt.figure(figsize=(8.9/2.54,8.9/2.54)) \n",
    "ax = plt.axes()\n",
    "ax.plot(np.arange(1,len(barRand)+1), barRand, color = 'black')\n",
    "ax.set_xlabel('$k$ pixel')\n",
    "ax.set_ylabel('barRand$(k)$')\n",
    "plt.tight_layout()\n",
    "plt.savefig('output/figure2.eps',dpi=300)\n",
    "plt.show()"
   ]
  },
  {
   "cell_type": "markdown",
   "metadata": {},
   "source": [
    "### Structural variation\n",
    "\n",
    "A third important case of optical maps is when the sequence is known (or is known to be in some database), but there is some structural variation in the data, for example inversion, insertion, translocation or deletion. The goal of this project is to predict such structural variations in both simulated datasets and experimental datasets. \n",
    "\n",
    "We use $n$ samples of each structural variation generated previously, and stored in the samples folder. We read this using numpy.\n",
    "\n"
   ]
  },
  {
   "cell_type": "code",
   "execution_count": null,
   "metadata": {},
   "outputs": [],
   "source": [
    "# use pandas instead here\n",
    "f = open( 'data/samples/Insertion/7_sample1_seq.txt','r' )\n",
    "x = f.readlines()\n",
    "f.close()\n",
    "y = [u.split() for u in x]\n",
    "\n",
    "seq1 = np.array(y[0]).astype(float)\n",
    "seq1 = np.reshape(seq1,(-1,len(seq1)))\n",
    "seq2 = np.array(y[1]).astype(float)\n",
    "seq2 = np.reshape(seq2,(-1,len(seq2)))\n",
    "\n",
    "# # Example 1: circular shift\n",
    "vitTraceback, W, score = hm.compute_example(seq1, seq2)\n",
    "\n",
    "M = len(seq1[0])\n",
    "resTable = hm.parse_vtrace(vitTraceback, M)\n",
    "if resTable[-1][1][-1] == resTable[0][1][0]-M+1:\n",
    "    resTable[0][0].append(resTable[-1][0])\n",
    "    resTable[0][1].append(resTable[-1][1])\n",
    "    resTable[-1][0] = []\n",
    "    resTable[-1][1] = []\n",
    "\n",
    "\n",
    "# matchStates - 1-M and M+1-2M\n",
    "hm.plot_comparison(seq1, seq2, resTable)\n",
    "\n",
    "# here could include subplot with the correct alignment (so remove the extra thing)"
   ]
  },
  {
   "cell_type": "markdown",
   "metadata": {},
   "source": [
    "## Alignment significance using random variations\n",
    "Here we generate distribution based on random segments"
   ]
  },
  {
   "cell_type": "code",
   "execution_count": null,
   "metadata": {},
   "outputs": [],
   "source": [
    "# import hmmpackage as hm\n",
    "\n",
    "# # load txt file example\n",
    "# # name = 'samples/Insertion/9_sample1_seq.txt'\n",
    "# fold = 'data/samples/Random/'\n",
    "# urls = hm.find_txts_in_dir(fold)\n",
    "\n",
    "# totScores = []\n",
    "# for i in urls:\n",
    "#     print(i)\n",
    "#     # name = 'samples/Random/9_sample1_seq.txt'\n",
    "#     name = i\n",
    "#     seq1, seq2 = hm.sim_txt(name)\n",
    "\n",
    "#     # run msv algorithm\n",
    "#     resTable,segScores = hm.vit_to_table(seq1,seq2)\n",
    "#     totScores.append(segScores)\n",
    "\n",
    "# # matchStates - 1-M and M+1-2M\n",
    "# hm.plot_comparison(seq1, seq2, resTable)\n",
    "\n",
    "# tt =[]\n",
    "# for i in range(0,len(totScores)):\n",
    "#     for j in range(0,len(totScores[i])):\n",
    "#         tt.append(totScores[i][j])\n",
    "\n",
    "# import numpy as np\n",
    "# import matplotlib.mlab as mlab\n",
    "# import matplotlib.pyplot as plt\n",
    "\n",
    "\n",
    "\n",
    "# # https://docs.scipy.org/doc/scipy-0.15.1/reference/generated/scipy.stats.genextreme.html\n",
    "# plt.figure()\n",
    "# from scipy.stats import genextreme as gev\n",
    "# # the histogram of the data\n",
    "# n, bins, patches = plt.hist(tt, 40, facecolor='green', alpha=0.75)\n",
    "# plt.show()\n",
    "# plt.xlabel('Viterbi score')\n",
    "# plt.ylabel('Count')\n",
    "# plt.title('Viterbi score histogram for random fragment comparison')\n",
    "\n",
    "# fit = gev.fit(tt,loc=3)\n"
   ]
  },
  {
   "cell_type": "markdown",
   "metadata": {},
   "source": [
    "## Alignment with experiment data\n"
   ]
  },
  {
   "cell_type": "markdown",
   "metadata": {},
   "source": [
    "## Conclusions"
   ]
  },
  {
   "cell_type": "markdown",
   "metadata": {},
   "source": [
    "### References\n",
    "\n",
    "EDDY, Sean R.. . Profile hidden Markov models. Bioinformatics (Oxford, England), 1998, 14.9: 755-763.\n",
    "\n",
    "DVIRNAS, Albertas, et al. Facilitated sequence assembly using densely labeled optical DNA barcodes: A combinatorial auction approach. PloS one, 2018, 13.3: e0193900."
   ]
  }
 ],
 "metadata": {
  "kernelspec": {
   "display_name": "Python 3",
   "language": "python",
   "name": "python3"
  },
  "language_info": {
   "codemirror_mode": {
    "name": "ipython",
    "version": 2
   },
   "file_extension": ".py",
   "mimetype": "text/x-python",
   "name": "python",
   "nbconvert_exporter": "python",
   "pygments_lexer": "ipython2",
   "version": "2.7.15rc1"
  }
 },
 "nbformat": 4,
 "nbformat_minor": 2
}
